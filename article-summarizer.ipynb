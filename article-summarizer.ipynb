{
 "cells": [
  {
   "cell_type": "markdown",
   "metadata": {},
   "source": [
    "# Web Mining and Applied NLP (44-620)\n",
    "\n",
    "## Final Project: Article Summarizer\n",
    "\n",
    "https://github.com/ddwalk77/44620-mod7\n",
    "\n",
    "### Student Name: DeeDee Walker\n",
    "\n",
    "Perform the tasks described in the Markdown cells below.  When you have completed the assignment make sure your code cells have all been run (and have output beneath them) and ensure you have committed and pushed ALL of your changes to your assignment repository.\n",
    "\n",
    "You should bring in code from previous assignments to help you answer the questions below.\n",
    "\n",
    "Every question that requires you to write code will have a code cell underneath it; you may either write your entire solution in that cell or write it in a python file (`.py`), then import and run the appropriate code to answer the question."
   ]
  },
  {
   "cell_type": "markdown",
   "metadata": {},
   "source": [
    "# Question 1"
   ]
  },
  {
   "cell_type": "markdown",
   "metadata": {},
   "source": [
    "1. Find on the internet an article or blog post about a topic that interests you and you are able to get the text for using the technologies we have applied in the course.  Get the html for the article and store it in a file (which you must submit with your project)"
   ]
  },
  {
   "cell_type": "code",
   "execution_count": 1,
   "metadata": {},
   "outputs": [],
   "source": [
    "import requests\n",
    "from bs4 import BeautifulSoup\n",
    "import pickle\n",
    "\n",
    "article_page = requests.get('https://www.cntraveler.com/story/best-places-to-go-in-2023')\n",
    "article_html = article_page.text\n",
    "\n",
    "with open('python-match.pkl', 'wb') as f:\n",
    "    pickle.dump(article_page.text, f)"
   ]
  },
  {
   "cell_type": "markdown",
   "metadata": {},
   "source": [
    "# Question 2"
   ]
  },
  {
   "cell_type": "markdown",
   "metadata": {},
   "source": [
    "2. Read in your article's html source from the file you created in question 1 and do sentiment analysis on the article/post's text (use `.get_text()`).  Print the polarity score with an appropriate label.  Additionally print the number of sentences in the original article (with an appropriate label)"
   ]
  },
  {
   "cell_type": "code",
   "execution_count": 8,
   "metadata": {},
   "outputs": [
    {
     "name": "stdout",
     "output_type": "stream",
     "text": [
      "Article Polarity:  0.1780577210027673\n",
      "Article Sentence Count:  255\n"
     ]
    }
   ],
   "source": [
    "import spacy\n",
    "from spacytextblob.spacytextblob import SpacyTextBlob\n",
    "\n",
    "with open('python-match.pkl', 'rb') as f:\n",
    "    article_html = pickle.load(f)\n",
    "\n",
    "parser = 'html.parser'\n",
    "soup = BeautifulSoup(article_html, parser)\n",
    "article_element = soup.find('article')\n",
    "nlp = spacy.load('en_core_web_sm')\n",
    "nlp.add_pipe(\"spacytextblob\")\n",
    "doc = nlp(article_element.get_text())\n",
    "sentences = list(doc.sents)\n",
    "print(\"Article Polarity: \", doc._.blob.polarity)\n",
    "print(\"Article Sentence Count: \", len(sentences))"
   ]
  },
  {
   "cell_type": "markdown",
   "metadata": {},
   "source": [
    "# Question 3"
   ]
  },
  {
   "cell_type": "markdown",
   "metadata": {},
   "source": [
    "3. Load the article text into a trained `spaCy` pipeline, and determine the 5 most frequent tokens (converted to lower case).  Print the common tokens with an appropriate label.  Additionally, print the tokens their frequencies (with appropriate labels)"
   ]
  },
  {
   "cell_type": "code",
   "execution_count": 17,
   "metadata": {},
   "outputs": [
    {
     "name": "stdout",
     "output_type": "stream",
     "text": [
      "The 5 most frequent tokens in the article and their frequency:  [('new', 95), ('stay', 49), ('hotel', 33), ('year', 29), ('city', 26)]\n"
     ]
    }
   ],
   "source": [
    "from collections import Counter\n",
    "\n",
    "def relevant(token):\n",
    "    return not (token.is_space or token.is_punct or token.is_stop or token.is_digit)\n",
    "\n",
    "common_tokens = [token.lower_ for token in doc if relevant(token)]\n",
    "word_freq = Counter(map(str,common_tokens))\n",
    "print(\"The 5 most frequent tokens in the article and their frequency: \", word_freq.most_common(5))"
   ]
  },
  {
   "cell_type": "markdown",
   "metadata": {},
   "source": [
    "# Question 4"
   ]
  },
  {
   "cell_type": "markdown",
   "metadata": {},
   "source": [
    "4. Load the article text into a trained `spaCy` pipeline, and determine the 5 most frequent lemmas (converted to lower case).  Print the common lemmas with an appropriate label.  Additionally, print the lemmas with their frequencies (with appropriate labels)."
   ]
  },
  {
   "cell_type": "code",
   "execution_count": 18,
   "metadata": {},
   "outputs": [
    {
     "name": "stdout",
     "output_type": "stream",
     "text": [
      "The 5 most frequent lemmas in the article and their frequency:  [('new', 97), ('stay', 56), ('open', 54), ('hotel', 49), ('year', 41)]\n"
     ]
    }
   ],
   "source": [
    "common_lemmas = [token.lemma_.lower() for token in doc if relevant(token)]\n",
    "lemma_freq = Counter(common_lemmas)\n",
    "print(\"The 5 most frequent lemmas in the article and their frequency: \", lemma_freq.most_common(5))"
   ]
  },
  {
   "cell_type": "markdown",
   "metadata": {},
   "source": [
    "# Question 5"
   ]
  },
  {
   "cell_type": "markdown",
   "metadata": {},
   "source": [
    "5. Make a list containing the scores (using tokens) of every sentence in the article, and plot a histogram with appropriate titles and axis labels of the scores. From your histogram, what seems to be the most common range of scores (put the answer in a comment after your code)?"
   ]
  },
  {
   "cell_type": "code",
   "execution_count": 75,
   "metadata": {},
   "outputs": [
    {
     "data": {
      "image/png": "[encoded data removed]",
      "text/plain": [
       "<Figure size 640x480 with 1 Axes>"
      ]
     },
     "metadata": {},
     "output_type": "display_data"
    }
   ],
   "source": [
    "import matplotlib.pyplot as plt\n",
    "import numpy as np\n",
    "\n",
    "top_common_tokens = list()\n",
    "for token, freq in word_freq.most_common(5):\n",
    "    top_common_tokens.append(token)\n",
    "\n",
    "sentkn = list()\n",
    "senwrd = list()\n",
    "tknscr = list()\n",
    "for sentence in sentences:\n",
    "    tokncount = 0\n",
    "    swrdcount = 0\n",
    "    for token in sentence:\n",
    "        if not(token.is_space or token.is_punct):\n",
    "            swrdcount +=1\n",
    "        if token.text.lower() in top_common_tokens:\n",
    "            tokncount +=1\n",
    "    sentkn.append(tokncount)\n",
    "    senwrd.append(swrdcount)\n",
    "    stscr = tokncount/swrdcount\n",
    "    tknscr.append(stscr)\n",
    "\n",
    "t = np.array(tknscr)\n",
    "plt.hist(t)\n",
    "plt.xlabel('Scores')\n",
    "plt.ylabel('Frequency')\n",
    "plt.title('Tokens Histogram')\n",
    "plt.xticks(np.arange(0, .2, 0.02))\n",
    "plt.show()"
   ]
  },
  {
   "cell_type": "markdown",
   "metadata": {},
   "source": [
    "#### The most common token score range is in 0-.02"
   ]
  },
  {
   "cell_type": "markdown",
   "metadata": {},
   "source": [
    "# Question 6"
   ]
  },
  {
   "cell_type": "markdown",
   "metadata": {},
   "source": [
    "6. Make a list containing the scores (using lemmas) of every sentence in the article, and plot a histogram with appropriate titles and axis labels of the scores.  From your histogram, what seems to be the most common range of scores (put the answer in a comment after your code)?"
   ]
  },
  {
   "cell_type": "code",
   "execution_count": 76,
   "metadata": {},
   "outputs": [
    {
     "data": {
      "image/png": "[encoded data removed]",
      "text/plain": [
       "<Figure size 640x480 with 1 Axes>"
      ]
     },
     "metadata": {},
     "output_type": "display_data"
    }
   ],
   "source": [
    "import matplotlib.pyplot as plt\n",
    "import numpy as np\n",
    "\n",
    "top_common_lemmas = set()\n",
    "for lemma, freq in lemma_freq.most_common(5):\n",
    "    top_common_lemmas.add(lemma)\n",
    "\n",
    "senlma = list()\n",
    "senwrd = list()\n",
    "lmascr = list()\n",
    "for sentence in sentences:\n",
    "    lmacount = 0\n",
    "    swrdcount = 0\n",
    "    for token in sentence:\n",
    "        if not(token.is_space or token.is_punct):\n",
    "            swrdcount +=1\n",
    "        if token.lemma_.lower() in top_common_lemmas:\n",
    "            lmacount +=1\n",
    "    senlma.append(lmacount)\n",
    "    senwrd.append(swrdcount)\n",
    "    slscr = lmacount/swrdcount\n",
    "    lmascr.append(slscr)\n",
    "\n",
    "l = np.array(lmascr)\n",
    "plt.hist(l)\n",
    "plt.xlabel('Scores')\n",
    "plt.ylabel('Frequency')\n",
    "plt.title('Lemma Histogram')\n",
    "plt.xticks(np.arange(0, .2, 0.02))\n",
    "plt.show()"
   ]
  },
  {
   "cell_type": "markdown",
   "metadata": {},
   "source": [
    "#### The most common lemma score range is in 0-.02"
   ]
  },
  {
   "cell_type": "markdown",
   "metadata": {},
   "source": [
    "# Question 7"
   ]
  },
  {
   "cell_type": "code",
   "execution_count": 86,
   "metadata": {},
   "outputs": [
    {
     "name": "stdout",
     "output_type": "stream",
     "text": [
      "0.11764705882352941\n",
      "0.13636363636363635\n"
     ]
    }
   ],
   "source": [
    "top_idx_t = np.argsort(t)[-10:]\n",
    "top_values_t = [t[i] for i in top_idx_t]\n",
    "print(min(top_values_t))\n",
    "\n",
    "top_idx_l = np.argsort(l)[-10:]\n",
    "top_values_l = [l[i] for i in top_idx_l]\n",
    "print(min(top_values_l))"
   ]
  },
  {
   "cell_type": "markdown",
   "metadata": {},
   "source": [
    "7. Using the histograms from questions 5 and 6, decide a \"cutoff\" score for tokens and lemmas such that fewer than half the sentences would have a score greater than the cutoff score.  Record the scores in this Markdown cell\n",
    "\n",
    "* Cutoff Score (tokens): 0.11764705882352941\n",
    "* Cutoff Score (lemmas): 0.13636363636363635\n",
    "\n",
    "Feel free to change these scores as you generate your summaries.  Ideally, we're shooting for at least 6 sentences for our summary, but don't want more than 10 (these numbers are rough estimates; they depend on the length of your article)."
   ]
  },
  {
   "cell_type": "markdown",
   "metadata": {},
   "source": [
    "# Question 8"
   ]
  },
  {
   "cell_type": "markdown",
   "metadata": {},
   "source": [
    "8. Create a summary of the article by going through every sentence in the article and adding it to an (initially) empty list if its score (based on tokens) is greater than the cutoff score you identified in question 8.  If your loop variable is named `sent`, you may find it easier to add `sent.text.strip()` to your list of sentences.  Print the summary (I would cleanly generate the summary text by `join`ing the strings in your list together with a space (`' '.join(sentence_list)`)."
   ]
  },
  {
   "cell_type": "code",
   "execution_count": 104,
   "metadata": {},
   "outputs": [
    {
     "name": "stdout",
     "output_type": "stream",
     "text": [
      "Joe ThomasIn June 2023, Qantas will begin running non-stop flights from New York City to Auckland.  After a three-year hiatus, the popular Lantern Festival will be held in February 2023 to celebrate Chinese New Year. There’s the Park Hyatt, QT Auckland, the charming Hotel Fitzroy, and Hotel Britomart, New Zealand’s only 5-Green-Star certified hotel. Grander transformations are afoot, with new infrastructure—and a new capital—rapidly taking shape. In the leafy Hivernage neighborhood, home to some of the city’s best nightlife, a new Nobu hotel will breathe new life into the former Pearl Hotel. —Nicola ChiltonBook a stay at Caravan AgafayBook a stay at Nobu Hotel MarrakechMelides, PortugalGo for: Lesser-known beaches, design-forward —Abigail MalbonBook a stay at SpatiaBook a stay at Pa.te.osMemphis, TennesseeGo for: New public spaces, restaurants and hotels that highlight the city's heritageThe Memphian Hotel is an eye-catching marker of the city's hotel boom—it's just one of eight new properties opened in 2022.  PhotographyThe Memphian Hotel shines a light on the city's heritage through design and cuisine, much like the city's coolest new restaurants. Memphis is experiencing a hotel boom, with eight new properties in 2022 and more on the way. —David MoralejoBook a stay at Hacienda ZoritaBook a stay at Castillo de Buen Amor\n"
     ]
    }
   ],
   "source": [
    "tsummary = list()\n",
    "tsumscores = list()\n",
    "\n",
    "for sentence in sentences:\n",
    "    tcount = 0\n",
    "    scount = 0\n",
    "    for token in sentence:\n",
    "        if not(token.is_space or token.is_punct):\n",
    "            scount += 1\n",
    "        if token.text.lower() in top_common_tokens:\n",
    "            tcount += 1\n",
    "    if tcount != 0:\n",
    "        tscore = tcount/scount\n",
    "        if tscore >= min(top_values_t):\n",
    "            sent_str = str(sentence).replace('\\n','').replace('  ',' ')\n",
    "            tsummary.append(sent_str)\n",
    "            tsumscores.append(tscore)\n",
    "\n",
    "print(' '.join(tsummary))"
   ]
  },
  {
   "cell_type": "markdown",
   "metadata": {},
   "source": [
    "# Question 9"
   ]
  },
  {
   "cell_type": "markdown",
   "metadata": {},
   "source": [
    "9. Print the polarity score of your summary you generated with the token scores (with an appropriate label). Additionally, print the number of sentences in the summarized article."
   ]
  },
  {
   "cell_type": "code",
   "execution_count": 105,
   "metadata": {},
   "outputs": [
    {
     "name": "stdout",
     "output_type": "stream",
     "text": [
      "Token summary polarity:  0.2333333333333333\n",
      "[0.11764705882352941, 0.15, 0.17391304347826086, 0.14285714285714285, 0.18518518518518517, 0.15, 0.16666666666666666, 0.17391304347826086, 0.11764705882352941, 0.14285714285714285]\n",
      "Token summary sentence count:  10\n"
     ]
    }
   ],
   "source": [
    "doc = nlp(' '.join(tsummary))\n",
    "\n",
    "print(\"Token summary polarity: \", doc._.blob.polarity)\n",
    "print(tsumscores)\n",
    "print(\"Token summary sentence count: \", len(tsummary))"
   ]
  },
  {
   "cell_type": "markdown",
   "metadata": {},
   "source": [
    "# Question 10"
   ]
  },
  {
   "cell_type": "markdown",
   "metadata": {},
   "source": [
    "10. Create a summary of the article by going through every sentence in the article and adding it to an (initially) empty list if its score (based on lemmas) is greater than the cutoff score you identified in question 8.  If your loop variable is named `sent`, you may find it easier to add `sent.text.strip()` to your list of sentences.  Print the summary (I would cleanly generate the summary text by `join`ing the strings in your list together with a space (`' '.join(sentence_list)`)."
   ]
  },
  {
   "cell_type": "code",
   "execution_count": 106,
   "metadata": {},
   "outputs": [
    {
     "name": "stdout",
     "output_type": "stream",
     "text": [
      "After a three-year hiatus, the popular Lantern Festival will be held in February 2023 to celebrate Chinese New Year. There’s the Park Hyatt, QT Auckland, the charming Hotel Fitzroy, and Hotel Britomart, New Zealand’s only 5-Green-Star certified hotel. Grander transformations are afoot, with new infrastructure—and a new capital—rapidly taking shape. In the leafy Hivernage neighborhood, home to some of the city’s best nightlife, a new Nobu hotel will breathe new life into the former Pearl Hotel. —Nicola ChiltonBook a stay at Caravan AgafayBook a stay at Nobu Hotel MarrakechMelides, PortugalGo for: Lesser-known beaches, design-forward —Abigail MalbonBook a stay at SpatiaBook a stay at Pa.te.osMemphis, TennesseeGo for: New public spaces, restaurants and hotels that highlight the city's heritageThe Memphian Hotel is an eye-catching marker of the city's hotel boom—it's just one of eight new properties opened in 2022.  These join a new luxury hotel faction including The Langham Gold Coast and Dorsett Gold Coast, both of which opened last summer. Kick your feet up at Vienna’s chic new hotels. The Rosewood Vienna, which opened in 2022, will welcome its first full year of guests with the new Asaya Spa. —David MoralejoBook a stay at Hacienda ZoritaBook a stay at Castillo de Buen Amor\n"
     ]
    }
   ],
   "source": [
    "lsummary = list()\n",
    "lsumscores = list()\n",
    "\n",
    "for sentence in sentences:\n",
    "    lcount = 0\n",
    "    scount = 0\n",
    "    for token in sentence:\n",
    "        if not(token.is_space or token.is_punct):\n",
    "            scount += 1\n",
    "        if token.lemma_.lower() in top_common_lemmas:\n",
    "            lcount += 1\n",
    "    if lcount != 0:\n",
    "        lscore = lcount/scount\n",
    "        if lscore >= min(top_values_l):\n",
    "            sent_str = str(sentence).replace('\\n','').replace('  ',' ')\n",
    "            lsummary.append(sent_str)\n",
    "            lsumscores.append(lscore)\n",
    "\n",
    "print(' '.join(lsummary))"
   ]
  },
  {
   "cell_type": "markdown",
   "metadata": {},
   "source": [
    "# Question 11"
   ]
  },
  {
   "cell_type": "markdown",
   "metadata": {},
   "source": [
    "11. Print the polarity score of your summary you generated with the lemma scores (with an appropriate label). Additionally, print the number of sentences in the summarized article."
   ]
  },
  {
   "cell_type": "code",
   "execution_count": 107,
   "metadata": {},
   "outputs": [
    {
     "name": "stdout",
     "output_type": "stream",
     "text": [
      "Lemma summary polarity:  0.23636363636363633\n",
      "[0.15, 0.17391304347826086, 0.14285714285714285, 0.14814814814814814, 0.15, 0.16666666666666666, 0.13636363636363635, 0.2, 0.15, 0.14285714285714285]\n",
      "Lemma summary sentence count:  10\n"
     ]
    }
   ],
   "source": [
    "doc = nlp(' '.join(lsummary))\n",
    "\n",
    "print(\"Lemma summary polarity: \", doc._.blob.polarity)\n",
    "print(lsumscores)\n",
    "print(\"Lemma summary sentence count: \", len(lsummary))"
   ]
  },
  {
   "cell_type": "markdown",
   "metadata": {},
   "source": [
    "# Question 12"
   ]
  },
  {
   "cell_type": "markdown",
   "metadata": {},
   "source": [
    "12.  Compare your polarity scores of your summaries to the polarity scores of the initial article.  Is there a difference?  Why do you think that may or may not be?.  Answer in this Markdown cell.  "
   ]
  },
  {
   "cell_type": "markdown",
   "metadata": {},
   "source": [
    "##### The polarity of the token & lemma summary are nearly the same, but both are higher than the original polarity. I think the polarity of the summary seems more accurate as the article is about travel and should have a more positive polarity score"
   ]
  },
  {
   "cell_type": "markdown",
   "metadata": {},
   "source": [
    "# Question 13"
   ]
  },
  {
   "cell_type": "markdown",
   "metadata": {},
   "source": [
    "13. Based on your reading of the original article, which summary do you think is better (if there's a difference).  Why do you think this might be?"
   ]
  },
  {
   "cell_type": "markdown",
   "metadata": {},
   "source": [
    "##### Neither summary is better than the other. Both have too many names of people which adds some confusion to the summary."
   ]
  }
 ],
 "metadata": {
  "kernelspec": {
   "display_name": "Python 3 (ipykernel)",
   "language": "python",
   "name": "python3"
  },
  "language_info": {
   "codemirror_mode": {
    "name": "ipython",
    "version": 3
   },
   "file_extension": ".py",
   "mimetype": "text/x-python",
   "name": "python",
   "nbconvert_exporter": "python",
   "pygments_lexer": "ipython3",
   "version": "3.9.12"
  }
 },
 "nbformat": 4,
 "nbformat_minor": 4
}
